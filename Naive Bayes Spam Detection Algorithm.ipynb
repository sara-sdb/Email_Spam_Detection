{
 "cells": [
  {
   "cell_type": "markdown",
   "id": "2224e848",
   "metadata": {},
   "source": [
    "## **Email Spam Detection Project**  \n",
    "\n",
    "This project focuses on creating a smart email spam detection system that leverages both content analysis and sender domain verification. By integrating these two approaches, the system effectively filters unwanted messages and helps protect users from various email-borne threats.\n",
    "\n",
    "\n",
    "## How the System Works\n",
    "\n",
    "- **Sender Domain Verification:**  \n",
    "  Every incoming email is checked against a list of suspicious domains. Emails sent from domains frequently linked to spam are flagged immediately, providing a strong initial filter.\n",
    "\n",
    "- **Content-Based Detection:**  \n",
    "  At the core is a **Naive Bayes Classifier**, known for its efficiency and effectiveness in text-based tasks. The model calculates the likelihood that an email text is spam by using trained model on the given dataset. \n",
    "\n",
    "## Development & Evaluation\n",
    "\n",
    "The classifier is trained on a labeled dataset containing examples of both spam and legitimate emails. Its performance is then evaluated using standard metrics—accuracy, precision, recall, and F1-score—to ensure dependable real-world results.\n",
    "\n",
    "Importantly, the system is designed for interpretability. Users can review which features (domain or content cues) contributed to any given classification, supporting transparency and user trust.\n",
    "\n",
    "\n",
    "## Goals\n",
    "\n",
    "- Accurately identify and filter spam emails to improve inbox quality.\n",
    "- Safeguard users from phishing, malware, and other cyber risks.\n",
    "- Offer clear, understandable reasons for each spam decision.\n",
    "- Maintain high efficiency and real-time operation.\n",
    "\n",
    "\n",
    "## Technology Stack\n",
    "\n",
    "The system is built in Python using these libraries:\n",
    "- **NumPy** and **Pandas** for data processing.\n",
    "- **Seaborn** for visualizations.\n",
    "- **Scikit-learn** for machine learning and evaluation.\n",
    "- **NLTK** for NLP tasks.\n",
    "\n",
    "\n",
    "## Setup\n",
    "\n",
    "Install the necessary Python libraries with:\n",
    "```bash\n",
    "pip install numpy pandas nltk scikit-learn seaborn\n"
   ]
  },
  {
   "cell_type": "code",
   "execution_count": 1,
   "id": "924d2234",
   "metadata": {},
   "outputs": [],
   "source": [
    "from nltk.tokenize import word_tokenize\n",
    "import re\n",
    "from collections import Counter\n"
   ]
  },
  {
   "cell_type": "code",
   "execution_count": 2,
   "id": "5ea60e9b",
   "metadata": {},
   "outputs": [
    {
     "name": "stderr",
     "output_type": "stream",
     "text": [
      "[nltk_data] Downloading package punkt to\n",
      "[nltk_data]     C:\\Users\\TSN-A0055\\AppData\\Roaming\\nltk_data...\n",
      "[nltk_data]   Package punkt is already up-to-date!\n"
     ]
    },
    {
     "data": {
      "text/plain": [
       "True"
      ]
     },
     "execution_count": 2,
     "metadata": {},
     "output_type": "execute_result"
    }
   ],
   "source": [
    "import nltk\n",
    "\n",
    "# necessary import nltk\n",
    "nltk.download('punkt')"
   ]
  },
  {
   "cell_type": "markdown",
   "id": "635b8c95",
   "metadata": {},
   "source": [
    "Read and load the data"
   ]
  },
  {
   "cell_type": "code",
   "execution_count": 3,
   "id": "cd6cc127",
   "metadata": {},
   "outputs": [
    {
     "name": "stdout",
     "output_type": "stream",
     "text": [
      "Warning: Looks like you're using an outdated `kagglehub` version, please consider updating (latest version: 0.3.12)\n"
     ]
    }
   ],
   "source": [
    "import pandas as pd\n",
    "import kagglehub\n",
    "\n",
    "path = kagglehub.dataset_download(\"balaka18/email-spam-classification-dataset-csv\")\n",
    "df = pd.read_csv(path+'/emails.csv')\n"
   ]
  },
  {
   "cell_type": "markdown",
   "id": "73dc0cbf",
   "metadata": {},
   "source": [
    "# Data Preprocessing "
   ]
  },
  {
   "cell_type": "code",
   "execution_count": 4,
   "id": "82791b33",
   "metadata": {},
   "outputs": [
    {
     "name": "stdout",
     "output_type": "stream",
     "text": [
      "<class 'pandas.core.frame.DataFrame'>\n",
      "RangeIndex: 5172 entries, 0 to 5171\n",
      "Columns: 3002 entries, Email No. to Prediction\n",
      "dtypes: int64(3001), object(1)\n",
      "memory usage: 118.5+ MB\n"
     ]
    }
   ],
   "source": [
    "df.info()"
   ]
  },
  {
   "cell_type": "markdown",
   "id": "c0694b8d",
   "metadata": {},
   "source": [
    "Totally 3002 columns, 3000 columns for common words and 1 column as Prediction and one for Email No. "
   ]
  },
  {
   "cell_type": "code",
   "execution_count": 5,
   "id": "e8a412f9",
   "metadata": {},
   "outputs": [
    {
     "data": {
      "text/html": [
       "<div>\n",
       "<style scoped>\n",
       "    .dataframe tbody tr th:only-of-type {\n",
       "        vertical-align: middle;\n",
       "    }\n",
       "\n",
       "    .dataframe tbody tr th {\n",
       "        vertical-align: top;\n",
       "    }\n",
       "\n",
       "    .dataframe thead th {\n",
       "        text-align: right;\n",
       "    }\n",
       "</style>\n",
       "<table border=\"1\" class=\"dataframe\">\n",
       "  <thead>\n",
       "    <tr style=\"text-align: right;\">\n",
       "      <th></th>\n",
       "      <th>Email No.</th>\n",
       "      <th>the</th>\n",
       "      <th>to</th>\n",
       "      <th>ect</th>\n",
       "      <th>and</th>\n",
       "      <th>for</th>\n",
       "      <th>of</th>\n",
       "      <th>a</th>\n",
       "      <th>you</th>\n",
       "      <th>hou</th>\n",
       "      <th>...</th>\n",
       "      <th>connevey</th>\n",
       "      <th>jay</th>\n",
       "      <th>valued</th>\n",
       "      <th>lay</th>\n",
       "      <th>infrastructure</th>\n",
       "      <th>military</th>\n",
       "      <th>allowing</th>\n",
       "      <th>ff</th>\n",
       "      <th>dry</th>\n",
       "      <th>Prediction</th>\n",
       "    </tr>\n",
       "  </thead>\n",
       "  <tbody>\n",
       "    <tr>\n",
       "      <th>0</th>\n",
       "      <td>Email 1</td>\n",
       "      <td>0</td>\n",
       "      <td>0</td>\n",
       "      <td>1</td>\n",
       "      <td>0</td>\n",
       "      <td>0</td>\n",
       "      <td>0</td>\n",
       "      <td>2</td>\n",
       "      <td>0</td>\n",
       "      <td>0</td>\n",
       "      <td>...</td>\n",
       "      <td>0</td>\n",
       "      <td>0</td>\n",
       "      <td>0</td>\n",
       "      <td>0</td>\n",
       "      <td>0</td>\n",
       "      <td>0</td>\n",
       "      <td>0</td>\n",
       "      <td>0</td>\n",
       "      <td>0</td>\n",
       "      <td>0</td>\n",
       "    </tr>\n",
       "    <tr>\n",
       "      <th>1</th>\n",
       "      <td>Email 2</td>\n",
       "      <td>8</td>\n",
       "      <td>13</td>\n",
       "      <td>24</td>\n",
       "      <td>6</td>\n",
       "      <td>6</td>\n",
       "      <td>2</td>\n",
       "      <td>102</td>\n",
       "      <td>1</td>\n",
       "      <td>27</td>\n",
       "      <td>...</td>\n",
       "      <td>0</td>\n",
       "      <td>0</td>\n",
       "      <td>0</td>\n",
       "      <td>0</td>\n",
       "      <td>0</td>\n",
       "      <td>0</td>\n",
       "      <td>0</td>\n",
       "      <td>1</td>\n",
       "      <td>0</td>\n",
       "      <td>0</td>\n",
       "    </tr>\n",
       "    <tr>\n",
       "      <th>2</th>\n",
       "      <td>Email 3</td>\n",
       "      <td>0</td>\n",
       "      <td>0</td>\n",
       "      <td>1</td>\n",
       "      <td>0</td>\n",
       "      <td>0</td>\n",
       "      <td>0</td>\n",
       "      <td>8</td>\n",
       "      <td>0</td>\n",
       "      <td>0</td>\n",
       "      <td>...</td>\n",
       "      <td>0</td>\n",
       "      <td>0</td>\n",
       "      <td>0</td>\n",
       "      <td>0</td>\n",
       "      <td>0</td>\n",
       "      <td>0</td>\n",
       "      <td>0</td>\n",
       "      <td>0</td>\n",
       "      <td>0</td>\n",
       "      <td>0</td>\n",
       "    </tr>\n",
       "    <tr>\n",
       "      <th>3</th>\n",
       "      <td>Email 4</td>\n",
       "      <td>0</td>\n",
       "      <td>5</td>\n",
       "      <td>22</td>\n",
       "      <td>0</td>\n",
       "      <td>5</td>\n",
       "      <td>1</td>\n",
       "      <td>51</td>\n",
       "      <td>2</td>\n",
       "      <td>10</td>\n",
       "      <td>...</td>\n",
       "      <td>0</td>\n",
       "      <td>0</td>\n",
       "      <td>0</td>\n",
       "      <td>0</td>\n",
       "      <td>0</td>\n",
       "      <td>0</td>\n",
       "      <td>0</td>\n",
       "      <td>0</td>\n",
       "      <td>0</td>\n",
       "      <td>0</td>\n",
       "    </tr>\n",
       "    <tr>\n",
       "      <th>4</th>\n",
       "      <td>Email 5</td>\n",
       "      <td>7</td>\n",
       "      <td>6</td>\n",
       "      <td>17</td>\n",
       "      <td>1</td>\n",
       "      <td>5</td>\n",
       "      <td>2</td>\n",
       "      <td>57</td>\n",
       "      <td>0</td>\n",
       "      <td>9</td>\n",
       "      <td>...</td>\n",
       "      <td>0</td>\n",
       "      <td>0</td>\n",
       "      <td>0</td>\n",
       "      <td>0</td>\n",
       "      <td>0</td>\n",
       "      <td>0</td>\n",
       "      <td>0</td>\n",
       "      <td>1</td>\n",
       "      <td>0</td>\n",
       "      <td>0</td>\n",
       "    </tr>\n",
       "  </tbody>\n",
       "</table>\n",
       "<p>5 rows × 3002 columns</p>\n",
       "</div>"
      ],
      "text/plain": [
       "  Email No.  the  to  ect  and  for  of    a  you  hou  ...  connevey  jay  \\\n",
       "0   Email 1    0   0    1    0    0   0    2    0    0  ...         0    0   \n",
       "1   Email 2    8  13   24    6    6   2  102    1   27  ...         0    0   \n",
       "2   Email 3    0   0    1    0    0   0    8    0    0  ...         0    0   \n",
       "3   Email 4    0   5   22    0    5   1   51    2   10  ...         0    0   \n",
       "4   Email 5    7   6   17    1    5   2   57    0    9  ...         0    0   \n",
       "\n",
       "   valued  lay  infrastructure  military  allowing  ff  dry  Prediction  \n",
       "0       0    0               0         0         0   0    0           0  \n",
       "1       0    0               0         0         0   1    0           0  \n",
       "2       0    0               0         0         0   0    0           0  \n",
       "3       0    0               0         0         0   0    0           0  \n",
       "4       0    0               0         0         0   1    0           0  \n",
       "\n",
       "[5 rows x 3002 columns]"
      ]
     },
     "execution_count": 5,
     "metadata": {},
     "output_type": "execute_result"
    }
   ],
   "source": [
    "df.head()"
   ]
  },
  {
   "cell_type": "code",
   "execution_count": 6,
   "id": "cbde21ee",
   "metadata": {},
   "outputs": [
    {
     "data": {
      "text/plain": [
       "Index(['Email No.', 'the', 'to', 'ect', 'and', 'for', 'of', 'a', 'you', 'hou',\n",
       "       ...\n",
       "       'connevey', 'jay', 'valued', 'lay', 'infrastructure', 'military',\n",
       "       'allowing', 'ff', 'dry', 'Prediction'],\n",
       "      dtype='object', length=3002)"
      ]
     },
     "execution_count": 6,
     "metadata": {},
     "output_type": "execute_result"
    }
   ],
   "source": [
    "df.columns"
   ]
  },
  {
   "cell_type": "code",
   "execution_count": 7,
   "id": "acde7afa",
   "metadata": {},
   "outputs": [
    {
     "data": {
      "text/plain": [
       "0"
      ]
     },
     "execution_count": 7,
     "metadata": {},
     "output_type": "execute_result"
    }
   ],
   "source": [
    "df.isna().values.sum()"
   ]
  },
  {
   "cell_type": "code",
   "execution_count": 8,
   "id": "70ad77ba",
   "metadata": {},
   "outputs": [
    {
     "data": {
      "text/plain": [
       "0"
      ]
     },
     "execution_count": 8,
     "metadata": {},
     "output_type": "execute_result"
    }
   ],
   "source": [
    "df.duplicated(keep=False).sum()"
   ]
  },
  {
   "cell_type": "markdown",
   "id": "ec2f84f4",
   "metadata": {},
   "source": [
    "Also there is no null or duplicate data in the dataset."
   ]
  },
  {
   "cell_type": "code",
   "execution_count": 9,
   "id": "82d217ef",
   "metadata": {},
   "outputs": [
    {
     "name": "stderr",
     "output_type": "stream",
     "text": [
      "C:\\Users\\TSN-A0055\\miniconda3\\envs\\rl-lab\\lib\\site-packages\\ipykernel_launcher.py:3: UserWarning: \n",
      "\n",
      "`distplot` is a deprecated function and will be removed in seaborn v0.14.0.\n",
      "\n",
      "Please adapt your code to use either `displot` (a figure-level function with\n",
      "similar flexibility) or `histplot` (an axes-level function for histograms).\n",
      "\n",
      "For a guide to updating your code to use the new functions, please see\n",
      "https://gist.github.com/mwaskom/de44147ed2974457ad6372750bbe5751\n",
      "\n",
      "  This is separate from the ipykernel package so we can avoid doing imports until\n"
     ]
    },
    {
     "data": {
      "text/plain": [
       "<AxesSubplot:xlabel='Prediction', ylabel='Density'>"
      ]
     },
     "execution_count": 9,
     "metadata": {},
     "output_type": "execute_result"
    },
    {
     "data": {
      "image/png": "[encoded data removed]",
      "text/plain": [
       "<Figure size 640x480 with 1 Axes>"
      ]
     },
     "metadata": {},
     "output_type": "display_data"
    }
   ],
   "source": [
    "import seaborn as sns\n",
    "\n",
    "sns.distplot(df.Prediction)\n"
   ]
  },
  {
   "cell_type": "markdown",
   "id": "0992470a",
   "metadata": {},
   "source": [
    "The distibution of data is about 0 is not spam and 1 is spam."
   ]
  },
  {
   "cell_type": "markdown",
   "id": "eb06e6ef",
   "metadata": {},
   "source": [
    "# Train and evaluate Naive Bayes Classifier"
   ]
  },
  {
   "cell_type": "code",
   "execution_count": 10,
   "id": "dab269e6",
   "metadata": {},
   "outputs": [
    {
     "name": "stdout",
     "output_type": "stream",
     "text": [
      "Confusion Matrix:\n",
      " [[704  35]\n",
      " [ 12 284]]\n",
      "\n",
      "Classification Report:\n",
      "               precision    recall  f1-score   support\n",
      "\n",
      "           0       0.98      0.95      0.97       739\n",
      "           1       0.89      0.96      0.92       296\n",
      "\n",
      "    accuracy                           0.95      1035\n",
      "   macro avg       0.94      0.96      0.95      1035\n",
      "weighted avg       0.96      0.95      0.96      1035\n",
      "\n"
     ]
    }
   ],
   "source": [
    "from sklearn.model_selection import train_test_split\n",
    "from sklearn.naive_bayes import MultinomialNB\n",
    "from sklearn.metrics import confusion_matrix, classification_report, accuracy_score, precision_score, recall_score, f1_score \n",
    "\n",
    "X = df.drop(columns=[\"Email No.\", \"Prediction\"])\n",
    "y = df[\"Prediction\"]\n",
    "X_train, X_test, y_train, y_test = train_test_split(X, y, test_size=0.2, random_state=42)\n",
    "\n",
    "model = MultinomialNB()\n",
    "model.fit(X_train, y_train)\n",
    "y_pred = model.predict(X_test)\n",
    "\n",
    "conf_matrix = confusion_matrix(y_test, y_pred)\n",
    "report = classification_report(y_test, y_pred)\n",
    "\n",
    "# Print Metrics\n",
    "print(\"Confusion Matrix:\\n\", conf_matrix)\n",
    "print(\"\\nClassification Report:\\n\", report)"
   ]
  },
  {
   "cell_type": "markdown",
   "id": "cb8126a9",
   "metadata": {},
   "source": [
    "The classification results show overall performance of the spam detection model, achieving an accuracy of 95% is very good. According to the confusion matrix, the model correctly classified 704 out of 739 non-spam emails and 284 out of 296 spam emails. Precision and recall scores are high for both classes, with non-spam (class 0) showing a precision of 0.98 and recall of 0.95, meaning very few legitimate emails are incorrectly flagged as spam. For the spam class (class 1), the model achieved a precision of 0.89 and an impressive recall of 0.96, demonstrating its ability to effectively identify most spam messages with only a small number of missed cases. While the false positive rate for spam is slightly higher, the model still maintains strong F1-scores for both classes. Overall, these results suggest that the system is reliable for real-world email filtering, with only minor room for improvement in reducing false positives.\n"
   ]
  },
  {
   "cell_type": "markdown",
   "id": "01a4b4f0",
   "metadata": {},
   "source": [
    "# Test"
   ]
  },
  {
   "cell_type": "markdown",
   "id": "ebe34df4",
   "metadata": {},
   "source": [
    "To test this algorithm, just enter the email content and email sender address and then the algorithm will print the result\n"
   ]
  },
  {
   "cell_type": "code",
   "execution_count": 15,
   "id": "e8b3e0cb",
   "metadata": {},
   "outputs": [
    {
     "name": "stdout",
     "output_type": "stream",
     "text": [
      "content of the email: yy\n",
      "sender of the email: test.com\n",
      "sender is spam\n"
     ]
    }
   ],
   "source": [
    "email_content = input(\"content of the email: \")\n",
    "sender_address = input(\"sender of the email: \")\n",
    "\n",
    "\n",
    "spam_domains = ['test.com', 'uuuu.oo', 'fake.net', 'wwww.com']\n",
    "match = re.search(r'@([A-Za-z0-9.-]+)', sender_address)\n",
    "domain = match.group(1).lower() if match else ''\n",
    " \n",
    "if sender_address in spam_domains:\n",
    "    print(\"sender is spam\")\n",
    "        \n",
    "else:    \n",
    "    email_content = email_content.lower()  \n",
    "    tokens = word_tokenize(email_content)  \n",
    "    token_counts = Counter(tokens)  \n",
    "\n",
    "    df = pd.DataFrame([token_counts])\n",
    "    df = df.reindex(columns=X.columns, fill_value=0) \n",
    "\n",
    "    prediction = model.predict(df)\n",
    "    if prediction[0] == 1: \n",
    "        print(\"Spam\") \n",
    "    else: \n",
    "        print(\"Not Spam\")\n"
   ]
  },
  {
   "cell_type": "markdown",
   "id": "9a12d4fb",
   "metadata": {},
   "source": [
    "# Result"
   ]
  },
  {
   "cell_type": "markdown",
   "id": "e1fea238",
   "metadata": {},
   "source": [
    "\n",
    "\n",
    "The Advanced Email Spam Detection System demonstrates the practical use of machine learning to improve both security and communication in digital environments. By uniting sender domain checks with detailed content evaluation, and employing the Naive Bayes Classifier, this system effectively blocks unwanted spam messages. It not only boosts the reliability and safety of email exchanges but also shields users from cyber risks. Thanks to its interpretable decision process and strong performance, this solution can be integrated seamlessly into both individual and enterprise email systems.\n"
   ]
  }
 ],
 "metadata": {
  "kernelspec": {
   "display_name": "Python 3 (ipykernel)",
   "language": "python",
   "name": "python3"
  },
  "language_info": {
   "codemirror_mode": {
    "name": "ipython",
    "version": 3
   },
   "file_extension": ".py",
   "mimetype": "text/x-python",
   "name": "python",
   "nbconvert_exporter": "python",
   "pygments_lexer": "ipython3",
   "version": "3.7.3"
  }
 },
 "nbformat": 4,
 "nbformat_minor": 5
}
